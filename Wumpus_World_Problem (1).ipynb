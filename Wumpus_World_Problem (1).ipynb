{
  "nbformat": 4,
  "nbformat_minor": 0,
  "metadata": {
    "colab": {
      "name": "Wumpus_World_Problem.ipynb",
      "provenance": [],
      "collapsed_sections": []
    },
    "kernelspec": {
      "name": "python3",
      "display_name": "Python 3"
    },
    "language_info": {
      "name": "python"
    }
  },
  "cells": [
    {
      "cell_type": "markdown",
      "metadata": {
        "id": "J2sxAhYRzy9l"
      },
      "source": [
        "##Importing Texttable for displaying the matrix"
      ]
    },
    {
      "cell_type": "code",
      "metadata": {
        "colab": {
          "base_uri": "https://localhost:8080/"
        },
        "id": "vng_-hnZ3pd6",
        "outputId": "dab6f732-0e5d-463b-d89c-0854b49c91c8"
      },
      "source": [
        "pip install Texttable"
      ],
      "execution_count": 56,
      "outputs": [
        {
          "output_type": "stream",
          "text": [
            "Requirement already satisfied: Texttable in /usr/local/lib/python3.7/dist-packages (1.6.3)\n"
          ],
          "name": "stdout"
        }
      ]
    },
    {
      "cell_type": "markdown",
      "metadata": {
        "id": "3BOQsnz5z7ps"
      },
      "source": [
        "##Random position generator function"
      ]
    },
    {
      "cell_type": "code",
      "metadata": {
        "id": "444QOGDdJlFy"
      },
      "source": [
        "def posgen():\n",
        "  r1 = random.randint(0,3)\n",
        "  r2 = random.randint(0,3)\n",
        "  while r1==0 and r2==0:\n",
        "    r1 = random.randint(0,3)\n",
        "    r2 = random.randint(0,3)\n",
        "  return [r1,r2]"
      ],
      "execution_count": 57,
      "outputs": []
    },
    {
      "cell_type": "markdown",
      "metadata": {
        "id": "BxRM0lTW0Ahj"
      },
      "source": [
        "##Generating positions for Wumpus, Pits and Gold, randomly "
      ]
    },
    {
      "cell_type": "code",
      "metadata": {
        "colab": {
          "base_uri": "https://localhost:8080/"
        },
        "id": "jLONOoEeH-8l",
        "outputId": "f9f1e862-9a23-4768-9760-8f4d6bcc3c59"
      },
      "source": [
        "import random\n",
        "pos=[]\n",
        "while(len(pos)!=5):\n",
        "  count=0\n",
        "  t=posgen()\n",
        "  for i in range(len(pos)):\n",
        "    if pos[i]==t:\n",
        "      count+=1\n",
        "      break\n",
        "  if count!=0:\n",
        "    continue\n",
        "  else:\n",
        "    pos.append(t)\n",
        "print(pos)"
      ],
      "execution_count": 58,
      "outputs": [
        {
          "output_type": "stream",
          "text": [
            "[[1, 1], [3, 1], [1, 2], [1, 3], [0, 2]]\n"
          ],
          "name": "stdout"
        }
      ]
    },
    {
      "cell_type": "code",
      "metadata": {
        "id": "u27x-WZtIEOE"
      },
      "source": [
        "# Taking the 1st pair as the coordinates of the wumpus and the 2nd,3rd and 4th pair as the coordinates of the pits and the 5th one as the coordinates of the wumpus"
      ],
      "execution_count": 59,
      "outputs": []
    },
    {
      "cell_type": "markdown",
      "metadata": {
        "id": "AIqbh8ZL0Z5e"
      },
      "source": [
        "##Declaring an empty list of a dimension of 4x4"
      ]
    },
    {
      "cell_type": "code",
      "metadata": {
        "id": "fLY26JsILZ4F"
      },
      "source": [
        "listpos=[[\"\",\"\",\"\",\"\"],[\"\",\"\",\"\",\"\"],[\"\",\"\",\"\",\"\"],[\"\",\"\",\"\",\"\"]]"
      ],
      "execution_count": 60,
      "outputs": []
    },
    {
      "cell_type": "markdown",
      "metadata": {
        "id": "kL5rn1sK0glD"
      },
      "source": [
        "##Assigning positions for the Wumpus, Pits and Gold"
      ]
    },
    {
      "cell_type": "code",
      "metadata": {
        "id": "tEUu-ik7LwkD"
      },
      "source": [
        "listpos[pos[0][0]][pos[0][1]]=\"W\"\n",
        "listpos[pos[1][0]][pos[1][1]]=\"P\"\n",
        "listpos[pos[2][0]][pos[2][1]]=\"P\"\n",
        "listpos[pos[3][0]][pos[3][1]]=\"P\"\n",
        "listpos[pos[4][0]][pos[4][1]]=\"G\""
      ],
      "execution_count": 61,
      "outputs": []
    },
    {
      "cell_type": "code",
      "metadata": {
        "colab": {
          "base_uri": "https://localhost:8080/"
        },
        "id": "nEFQ5Wh3NjDU",
        "outputId": "52e18fb0-90bd-47a0-bd30-001d8ebe8e3b"
      },
      "source": [
        "listpos"
      ],
      "execution_count": 62,
      "outputs": [
        {
          "output_type": "execute_result",
          "data": {
            "text/plain": [
              "[['', '', 'G', ''], ['', 'W', 'P', 'P'], ['', '', '', ''], ['', 'P', '', '']]"
            ]
          },
          "metadata": {
            "tags": []
          },
          "execution_count": 62
        }
      ]
    },
    {
      "cell_type": "markdown",
      "metadata": {
        "id": "kvQ2QPIc0rBe"
      },
      "source": [
        "##Adding the agent to the matrix"
      ]
    },
    {
      "cell_type": "code",
      "metadata": {
        "id": "bC2Hy1zbNn0C"
      },
      "source": [
        "listpos[0][0]=\"A\""
      ],
      "execution_count": 63,
      "outputs": []
    },
    {
      "cell_type": "code",
      "metadata": {
        "colab": {
          "base_uri": "https://localhost:8080/"
        },
        "id": "bC-egqD-NqfI",
        "outputId": "54c94ee9-31e3-431c-dd97-b66e8717caf0"
      },
      "source": [
        "listpos"
      ],
      "execution_count": 64,
      "outputs": [
        {
          "output_type": "execute_result",
          "data": {
            "text/plain": [
              "[['A', '', 'G', ''], ['', 'W', 'P', 'P'], ['', '', '', ''], ['', 'P', '', '']]"
            ]
          },
          "metadata": {
            "tags": []
          },
          "execution_count": 64
        }
      ]
    },
    {
      "cell_type": "code",
      "metadata": {
        "id": "BiGzCEl0QzwR"
      },
      "source": [
        "def fn(list,x,y,condition):\n",
        "  if (x>=0 and x<4) and (y>=0 and y<4):\n",
        "    return list[x][y]+condition\n",
        "  else:\n",
        "    return \"\""
      ],
      "execution_count": 65,
      "outputs": []
    },
    {
      "cell_type": "code",
      "metadata": {
        "colab": {
          "base_uri": "https://localhost:8080/"
        },
        "id": "SJfESOVCSRbQ",
        "outputId": "3e7c182c-ae0f-417d-e8d2-1e61b1876640"
      },
      "source": [
        "listpos"
      ],
      "execution_count": 66,
      "outputs": [
        {
          "output_type": "execute_result",
          "data": {
            "text/plain": [
              "[['A', '', 'G', ''], ['', 'W', 'P', 'P'], ['', '', '', ''], ['', 'P', '', '']]"
            ]
          },
          "metadata": {
            "tags": []
          },
          "execution_count": 66
        }
      ]
    },
    {
      "cell_type": "markdown",
      "metadata": {
        "id": "0dGo0mjF0viv"
      },
      "source": [
        "##Adding the Stench and Breeze to the matrix, around the pits and the wumpus respectively."
      ]
    },
    {
      "cell_type": "code",
      "metadata": {
        "id": "X8ptZKUaOA5-"
      },
      "source": [
        "x=pos[0][0]\n",
        "y=pos[0][1]\n",
        "condition=\"\"\n",
        "for i in range(0,4):\n",
        "  if i==0:\n",
        "    condition=\"S\"\n",
        "  else:\n",
        "    condition=\"B\"\n",
        "  x=pos[i][0]\n",
        "  y=pos[i][1]\n",
        "  z=[\"\"]*4\n",
        "  z[0]=fn(listpos,x,y+1,condition)\n",
        "  z[1]=fn(listpos,x,y-1,condition)\n",
        "  z[2]=fn(listpos,x+1,y,condition)\n",
        "  z[3]=fn(listpos,x-1,y,condition)\n",
        "  if z[0]!=\"\":\n",
        "    listpos[x][y+1]=z[0]\n",
        "  if z[1]!=\"\":\n",
        "    listpos[x][y-1]=fn(listpos,x,y-1,condition)\n",
        "  if z[2]!=\"\":\n",
        "    listpos[x+1][y]=fn(listpos,x+1,y,condition)\n",
        "  if z[3]!=\"\":\n",
        "    listpos[x-1][y]=fn(listpos,x-1,y,condition)"
      ],
      "execution_count": 67,
      "outputs": []
    },
    {
      "cell_type": "code",
      "metadata": {
        "colab": {
          "base_uri": "https://localhost:8080/"
        },
        "id": "BKTmxkXCU8JY",
        "outputId": "87471e3b-47ed-44dd-bb72-54e41287875f"
      },
      "source": [
        "listpos"
      ],
      "execution_count": 68,
      "outputs": [
        {
          "output_type": "execute_result",
          "data": {
            "text/plain": [
              "[['A', 'S', 'GB', 'B'],\n",
              " ['S', 'WB', 'PSB', 'PB'],\n",
              " ['', 'SB', 'B', 'B'],\n",
              " ['B', 'P', 'B', '']]"
            ]
          },
          "metadata": {
            "tags": []
          },
          "execution_count": 68
        }
      ]
    },
    {
      "cell_type": "markdown",
      "metadata": {
        "id": "sSSF3TT503t9"
      },
      "source": [
        "##Removing the duplicate letters from listpos"
      ]
    },
    {
      "cell_type": "code",
      "metadata": {
        "id": "we-VlBm6ZEEa"
      },
      "source": [
        "from collections import OrderedDict\n",
        "def removeDupWithOrder(str): \n",
        "    return \"\".join(OrderedDict.fromkeys(str))"
      ],
      "execution_count": 69,
      "outputs": []
    },
    {
      "cell_type": "code",
      "metadata": {
        "id": "mO1iayw3ZFAW"
      },
      "source": [
        "for i in range(0,4):\n",
        "  for j in range(0,4):\n",
        "    listpos[i][j]=removeDupWithOrder(listpos[i][j])"
      ],
      "execution_count": 70,
      "outputs": []
    },
    {
      "cell_type": "code",
      "metadata": {
        "colab": {
          "base_uri": "https://localhost:8080/"
        },
        "id": "mmSsqE_CZoB6",
        "outputId": "23d59134-1222-41ac-8a6a-cc27f6016d4c"
      },
      "source": [
        "listpos"
      ],
      "execution_count": 71,
      "outputs": [
        {
          "output_type": "execute_result",
          "data": {
            "text/plain": [
              "[['A', 'S', 'GB', 'B'],\n",
              " ['S', 'WB', 'PSB', 'PB'],\n",
              " ['', 'SB', 'B', 'B'],\n",
              " ['B', 'P', 'B', '']]"
            ]
          },
          "metadata": {
            "tags": []
          },
          "execution_count": 71
        }
      ]
    },
    {
      "cell_type": "markdown",
      "metadata": {
        "id": "pRk5v_V80_Ly"
      },
      "source": [
        "##Displaying the 4x4 matrix"
      ]
    },
    {
      "cell_type": "code",
      "metadata": {
        "colab": {
          "base_uri": "https://localhost:8080/"
        },
        "id": "MZHJ9mya0czW",
        "outputId": "f0e6efd3-ca16-41fa-e9d8-45250f7f3ce3"
      },
      "source": [
        "from texttable import Texttable\n",
        "\n",
        "# texttable takes the first reocrd in the list as the column names\n",
        "# of the table\n",
        "Exp=[]\n",
        "table = Texttable()\n",
        "table.add_rows(listpos,header=None)\n",
        "print(table.draw())"
      ],
      "execution_count": 72,
      "outputs": [
        {
          "output_type": "stream",
          "text": [
            "+---+----+-----+----+\n",
            "| A | S  | GB  | B  |\n",
            "+---+----+-----+----+\n",
            "| S | WB | PSB | PB |\n",
            "+---+----+-----+----+\n",
            "|   | SB | B   | B  |\n",
            "+---+----+-----+----+\n",
            "| B | P  | B   |    |\n",
            "+---+----+-----+----+\n"
          ],
          "name": "stdout"
        }
      ]
    },
    {
      "cell_type": "markdown",
      "metadata": {
        "id": "wBkGFQJ62kgt"
      },
      "source": [
        "##Function when on calling displays the matrix "
      ]
    },
    {
      "cell_type": "code",
      "metadata": {
        "id": "g-SbKjQSvQ31"
      },
      "source": [
        "def tabledraw(list):\n",
        "  table = Texttable()\n",
        "  table.add_rows(list,header=None)\n",
        "  print(table.draw())"
      ],
      "execution_count": 73,
      "outputs": []
    },
    {
      "cell_type": "markdown",
      "metadata": {
        "id": "u5E5Dp_R2rRO"
      },
      "source": [
        "##The main code for the Wumpus World Problem"
      ]
    },
    {
      "cell_type": "code",
      "metadata": {
        "colab": {
          "base_uri": "https://localhost:8080/"
        },
        "id": "bg3L_b506jNT",
        "outputId": "00d4436f-4694-4d2e-cb32-0ef337a86b25"
      },
      "source": [
        "import random\n",
        "i=0\n",
        "j=0\n",
        "Expnode=[[0,0]]\n",
        "pitpos=[]\n",
        "Exp=[]\n",
        "cost=0\n",
        "while (i>=0 and i<4) and (j>=0 and j<4):\n",
        "  if listpos[i][j].find(\"S\")!=-1:\n",
        "    print(\"CAME ACROSS SOME STENCH HERE!\\n\")\n",
        "  if listpos[i][j].find(\"B\")!=-1:\n",
        "    print(\"CAME ACROSS SOME BREEZE HERE!\\n\")\n",
        "  print(\"Possible nodes for traversal:\\n\")\n",
        "  if (i+1>=0 and i+1<4) and (j>=0 and j<4):\n",
        "    if [i+1,j] in Expnode:\n",
        "      print(\"\")\n",
        "    else:\n",
        "      print([i+1,j])\n",
        "  if (i>=0 and i<4) and (j+1>=0 and j+1<4):\n",
        "    if [i,j+1] in Expnode:\n",
        "        print(\"\")\n",
        "    else:\n",
        "      print([i,j+1])\n",
        "  if (i-1>=0 and i-1<4) and (j>=0 and j<4):\n",
        "    if [i-1,j] in Expnode:\n",
        "        print(\"\")\n",
        "    else:\n",
        "      print([i-1,j])\n",
        "  if (i>=0 and i<4) and (j-1>=0 and j-1<4):\n",
        "    if [i,j-1] in Expnode:\n",
        "        print(\"\")\n",
        "    else:\n",
        "      print([i,j-1])\n",
        "  \n",
        "  print(\"Enter your choice for moving ahead!\")\n",
        "  i=int(input(\"The x component\"))\n",
        "  j=int(input(\"The y component\"))\n",
        "  cost+=-1\n",
        "  Expnode.append([i,j])\n",
        "  if listpos[i][j].find(\"P\")!=-1:\n",
        "    print(\"RAN INTO A PIT!!!\")\n",
        "    cost+=-1000\n",
        "    break\n",
        "  if listpos[i][j].find(\"G\")!=-1:\n",
        "    print(\"FOUND THE GOAL NODE!!! SUCCESS\")\n",
        "    cost+=1000\n",
        "    break\n",
        "  if listpos[i][j].find(\"W\")!=-1:\n",
        "    print(\"THE WUMPUS SCREAMS!!!\")\n",
        "    diff=sum(Expnode[len(Expnode)-1])-sum(Expnode[len(Expnode)-2])\n",
        "    if diff==-1:\n",
        "      cost+=-10\n",
        "      print(\"THE AGENT SUCCESSFULLY KILLS THE WUMPUS BY CONFRONTATION!!!\")\n",
        "    elif diff==1:\n",
        "      cost+=-1000\n",
        "      print(\"THE AGENT IS DESTROYED BY THE WUMPUS !!! DEFEAT\")\n",
        "      break\n",
        "tabledraw(listpos)\n",
        "print(\"{} is the total cost\".format(cost))"
      ],
      "execution_count": 81,
      "outputs": [
        {
          "output_type": "stream",
          "text": [
            "Possible nodes for traversal:\n",
            "\n",
            "[1, 0]\n",
            "[0, 1]\n",
            "Enter your choice for moving ahead!\n",
            "The x component0\n",
            "The y component1\n",
            "CAME ACROSS SOME STENCH HERE!\n",
            "\n",
            "Possible nodes for traversal:\n",
            "\n",
            "[1, 1]\n",
            "[0, 2]\n",
            "\n",
            "Enter your choice for moving ahead!\n",
            "The x component0\n",
            "The y component2\n",
            "FOUND THE GOAL NODE!!! SUCCESS\n",
            "+---+----+-----+----+\n",
            "| A | S  | GB  | B  |\n",
            "+---+----+-----+----+\n",
            "| S | WB | PSB | PB |\n",
            "+---+----+-----+----+\n",
            "|   | SB | B   | B  |\n",
            "+---+----+-----+----+\n",
            "| B | P  | B   |    |\n",
            "+---+----+-----+----+\n",
            "998 is the total cost\n"
          ],
          "name": "stdout"
        }
      ]
    },
    {
      "cell_type": "code",
      "metadata": {
        "id": "p5JgB1B8cW89"
      },
      "source": [
        ""
      ],
      "execution_count": null,
      "outputs": []
    }
  ]
}